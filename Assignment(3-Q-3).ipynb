{
 "cells": [
  {
   "cell_type": "code",
   "execution_count": 26,
   "id": "23485830",
   "metadata": {},
   "outputs": [
    {
     "name": "stdout",
     "output_type": "stream",
     "text": [
      "Sample String: The quick Brow Fox\n",
      "No.of Upper case characters: 3\n",
      "No.of Lower case characters: 12\n"
     ]
    }
   ],
   "source": [
    "def count_upper_lower_chars(input_string):\n",
    "    upper_count =0\n",
    "    lower_count =0\n",
    "    for char in input_string :\n",
    "        if char.isupper():\n",
    "            upper_count +=1\n",
    "        elif char.islower():\n",
    "            lower_count +=1\n",
    "    return upper_count,lower_count\n",
    "\n",
    "sample_string = 'The quick Brow Fox'\n",
    "upper_count,lower_count = count_upper_lower_chars(sample_string)\n",
    "\n",
    "print(\"Sample String:\",sample_string)\n",
    "print(\"No.of Upper case characters:\",upper_count)\n",
    "print(\"No.of Lower case characters:\",lower_count)"
   ]
  }
 ],
 "metadata": {
  "kernelspec": {
   "display_name": "Python 3 (ipykernel)",
   "language": "python",
   "name": "python3"
  },
  "language_info": {
   "codemirror_mode": {
    "name": "ipython",
    "version": 3
   },
   "file_extension": ".py",
   "mimetype": "text/x-python",
   "name": "python",
   "nbconvert_exporter": "python",
   "pygments_lexer": "ipython3",
   "version": "3.10.9"
  }
 },
 "nbformat": 4,
 "nbformat_minor": 5
}
